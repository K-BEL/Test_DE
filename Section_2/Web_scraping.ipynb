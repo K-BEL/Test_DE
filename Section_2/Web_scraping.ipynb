{
 "cells": [
  {
   "cell_type": "code",
   "execution_count": 45,
   "metadata": {},
   "outputs": [],
   "source": [
    "from selenium import webdriver\n",
    "from selenium.webdriver.common.by import By\n",
    "from selenium.webdriver.common.keys import Keys\n",
    "from selenium.webdriver.support.ui import WebDriverWait\n",
    "from selenium.webdriver.support import expected_conditions as EC\n",
    "\n",
    "import pandas as pd\n",
    "from tabulate import tabulate\n",
    "import datetime\n",
    "import time\n",
    "import json\n",
    "import os\n",
    "import requests"
   ]
  },
  {
   "cell_type": "code",
   "execution_count": 112,
   "metadata": {},
   "outputs": [
    {
     "name": "stderr",
     "output_type": "stream",
     "text": [
      "C:\\Users\\LENOVO\\AppData\\Local\\Temp\\ipykernel_4056\\3434271159.py:1: DeprecationWarning: executable_path has been deprecated, please pass in a Service object\n",
      "  driver = webdriver.Chrome(r'C:\\Users\\LENOVO\\Desktop\\Test_DE\\Section_1\\chromedriver.exe')\n"
     ]
    }
   ],
   "source": [
    "driver = webdriver.Chrome(r'C:\\Users\\LENOVO\\Desktop\\Test_DE\\Section_2\\chromedriver.exe')\n",
    "#driver = webdriver.Edge(executable_path=r'C:\\Users\\LENOVO\\Desktop\\msedgedriver.exe')\n",
    "\n",
    "# Navigate to the Twitter login page\n",
    "driver.get(\"https://www.creditmutuel.fr/fr/particuliers/epargne/livret-de-developpement-durable.html\")\n",
    "#driver.get(\"https://www.creditmutuel.fr/fr/particuliers/epargne/livret-de-developpement-durable.html\")\n",
    "#driver.get(\"https://www.creditmutuel.fr/fr/particuliers/epargne/livret-de-developpement-durable.html\")"
   ]
  },
  {
   "cell_type": "markdown",
   "metadata": {},
   "source": [
    "Actualiser le navigateur"
   ]
  },
  {
   "cell_type": "code",
   "execution_count": 171,
   "metadata": {},
   "outputs": [],
   "source": [
    "driver.refresh()"
   ]
  },
  {
   "cell_type": "markdown",
   "metadata": {},
   "source": [
    "Extraire les données de l'utilisateur"
   ]
  },
  {
   "cell_type": "code",
   "execution_count": 120,
   "metadata": {},
   "outputs": [
    {
     "data": {
      "text/plain": [
       "[{'date': '2023-08-10',\n",
       "  'time': '01:54:16',\n",
       "  'username': '@Geo_AW',\n",
       "  'Profile_name': 'Geo',\n",
       "  'account_status': 'verified',\n",
       "  'posts_number': '33.2K posts',\n",
       "  'Followers': '802',\n",
       "  'Following': '131.6K',\n",
       "  'bio': '@Sanjistars_\\n ',\n",
       "  'joined': 'Joined June 2010',\n",
       "  'birthdate': '-',\n",
       "  'link': '-',\n",
       "  'categories': '-',\n",
       "  'location': 'Houston, TX',\n",
       "  'profile_pic': 'https://pbs.twimg.com/profile_images/1666063330010710016/MwvfI8KZ_200x200.jpg',\n",
       "  'background_pic': 'https://pbs.twimg.com/profile_banners/158478342/1680545848/1080x360'}]"
      ]
     },
     "execution_count": 120,
     "metadata": {},
     "output_type": "execute_result"
    }
   ],
   "source": [
    "user_list = []\n",
    "profile = driver.find_element(By.XPATH,f'//div[@class=\"css-1dbjc4n\"]')\n",
    "profile1 = driver.find_element(By.CSS_SELECTOR, '.css-1dbjc4n.r-1ifxtd0.r-ymttw5.r-ttdzmv')\n",
    "\n",
    "# Get the current date and time\n",
    "current_datetime = datetime.datetime.now()\n",
    "current_date = current_datetime.strftime(\"%Y-%m-%d\")  # Format: YYYY-MM-DD\n",
    "current_time = current_datetime.strftime(\"%H:%M:%S\")  # Format: HH:MM:SS\n",
    "\n",
    "\n",
    "\n",
    "username = profile.find_element(By.XPATH, \"/html/body/div[1]/div/div/div[2]/main/div/div/div/div/div/div[3]/div/div/div/div/div[2]/div[1]/div/div[2]/div/div/div/span\").text \n",
    "Profile_name = profile.find_element(By.XPATH, \"/html/body/div[1]/div/div/div[2]/main/div/div/div/div/div/div[3]/div/div/div/div/div[2]/div[1]/div/div[1]/div/div/span/span[1]\").text \n",
    "posts_number = profile.find_element(By.XPATH, \"//div[@class='css-1dbjc4n r-16y2uox r-1wbh5a2 r-1pi2tsx r-1777fci']//div[@class='css-1dbjc4n r-1habvwh']//div[@class='css-901oao css-1hf3ou5 r-1bwzh9t r-37j5jr r-n6v787 r-16dba41 r-1cwl3u0 r-bcqeeo r-qvutc0']\").text \n",
    "Followers = profile.find_element(By.XPATH, '//*[@id=\"react-root\"]/div/div/div[2]/main/div/div/div/div/div/div[3]/div/div/div/div/div[5]/div[1]/a/span[1]/span').text \n",
    "Following = profile.find_element(By.XPATH, '//*[@id=\"react-root\"]/div/div/div[2]/main/div/div/div/div/div/div[3]/div/div/div/div/div[5]/div[2]/a/span[1]/span').text \n",
    "\n",
    "\n",
    "try:\n",
    "   bio = profile.find_element(By.XPATH, '//*[@id=\"react-root\"]/div/div/div[2]/main/div/div/div/div/div/div[3]/div/div/div/div/div[3]/div/div').text \n",
    "\n",
    "except:\n",
    "   bio = \"-\"\n",
    "       \n",
    "try:\n",
    "   verification_badge_element = driver.find_element(By.CSS_SELECTOR, \"[data-testid='icon-verified']\")\n",
    "   v = 'verified'\n",
    "except:\n",
    "   try:\n",
    "      verification_badge_element = driver.find_element(By.XPATH, \"//svg[@data-testid='icon-verified']\")\n",
    "      v = 'verified'\n",
    "   except:\n",
    "      v = 'Non verified'\n",
    "       \n",
    "try:\n",
    "   joined = profile1.find_element(By.CSS_SELECTOR, \"[data-testid='UserJoinDate']\").text\n",
    "except:\n",
    "   joined = \"-\"\n",
    "       \n",
    "try:\n",
    "   birthdate = profile1.find_element(By.CSS_SELECTOR, \"[data-testid='UserBirthdate']\").text\n",
    "except:\n",
    "   birthdate = \"-\"\n",
    "   \n",
    "try:\n",
    "   link = profile1.find_element(By.CSS_SELECTOR, \"[data-testid='UserUrl']\").text \n",
    "except:\n",
    "   link = \"-\"\n",
    "   \n",
    "try:\n",
    "   categories = profile1.find_element(By.CSS_SELECTOR, \"[data-testid='UserProfessionalCategory']\").text \n",
    "except:\n",
    "   categories = \"-\"\n",
    "   \n",
    "try:\n",
    "   location = profile1.find_element(By.CSS_SELECTOR, \"[data-testid='UserLocation']\").text \n",
    "except:\n",
    "   location = \"-\" \n",
    "\n",
    "try:\n",
    "   profile_pic = profile.find_element(By.XPATH, \"/html/body/div[1]/div/div/div[2]/main/div/div/div/div/div/div[3]/div/div/div/div/div[1]/div[1]/div[2]/div/div[2]/div/a/div[3]/div/div[2]/div/img\")\n",
    "   image_url = profile_pic.get_attribute('src')\n",
    "except:\n",
    "   profile_pic = \"-\"\n",
    "       \n",
    "try:\n",
    "   background_pic = profile.find_element(By.XPATH, \"/html/body/div[1]/div/div/div[2]/main/div/div/div/div/div/div[3]/div/div/div/a/div/div[2]/div/img\")\n",
    "   image_url1 = background_pic.get_attribute('src')\n",
    "except:\n",
    "   background_pic = \"-\"\n",
    "       \n",
    "   \n",
    "\n",
    "user_dict = {\n",
    "        'date' : current_date,\n",
    "        'time' : current_time,\n",
    "        'username': username,\n",
    "        'Profile_name': Profile_name,\n",
    "        'account_status' : v,\n",
    "        'posts_number': posts_number,\n",
    "        'Followers': Followers,\n",
    "        'Following': Following,\n",
    "        'bio': bio,\n",
    "        'joined' : joined,\n",
    "        'birthdate' : birthdate,\n",
    "        'link' : link,\n",
    "        'categories' : categories,\n",
    "        'location' : location,\n",
    "        'profile_pic' : image_url,\n",
    "        'background_pic' : image_url1\n",
    "        \n",
    "    }\n",
    "    \n",
    "# Add the dictionary to a list\n",
    "user_list.append(user_dict)\n",
    "user_list"
   ]
  },
  {
   "cell_type": "code",
   "execution_count": 121,
   "metadata": {},
   "outputs": [
    {
     "name": "stdout",
     "output_type": "stream",
     "text": [
      "╒════╤════════════╤══════════╤════════════╤════════════════╤══════════════════╤════════════════╤═════════════╤═════════════╤══════════════╤══════════════════╤═════════════╤════════╤══════════════╤═════════════╤═══════════════════════════════════════════════════════════════════════════════╤═════════════════════════════════════════════════════════════════════╕\n",
      "│    │ date       │ time     │ username   │ Profile_name   │ account_status   │ posts_number   │   Followers │ Following   │ bio          │ joined           │ birthdate   │ link   │ categories   │ location    │ profile_pic                                                                   │ background_pic                                                      │\n",
      "╞════╪════════════╪══════════╪════════════╪════════════════╪══════════════════╪════════════════╪═════════════╪═════════════╪══════════════╪══════════════════╪═════════════╪════════╪══════════════╪═════════════╪═══════════════════════════════════════════════════════════════════════════════╪═════════════════════════════════════════════════════════════════════╡\n",
      "│  0 │ 2023-08-10 │ 01:39:59 │ @Geo_AW    │ Geo            │ verified         │ 33.2K posts    │         802 │ 131.6K      │ @Sanjistars_ │ Joined June 2010 │ -           │ -      │ -            │ Houston, TX │ https://pbs.twimg.com/profile_images/1666063330010710016/MwvfI8KZ_200x200.jpg │ https://pbs.twimg.com/profile_banners/158478342/1680545848/1080x360 │\n",
      "├────┼────────────┼──────────┼────────────┼────────────────┼──────────────────┼────────────────┼─────────────┼─────────────┼──────────────┼──────────────────┼─────────────┼────────┼──────────────┼─────────────┼───────────────────────────────────────────────────────────────────────────────┼─────────────────────────────────────────────────────────────────────┤\n",
      "│  1 │ 2023-08-10 │ 01:54:16 │ @Geo_AW    │ Geo            │ verified         │ 33.2K posts    │         802 │ 131.6K      │ @Sanjistars_ │ Joined June 2010 │ -           │ -      │ -            │ Houston, TX │ https://pbs.twimg.com/profile_images/1666063330010710016/MwvfI8KZ_200x200.jpg │ https://pbs.twimg.com/profile_banners/158478342/1680545848/1080x360 │\n",
      "╘════╧════════════╧══════════╧════════════╧════════════════╧══════════════════╧════════════════╧═════════════╧═════════════╧══════════════╧══════════════════╧═════════════╧════════╧══════════════╧═════════════╧═══════════════════════════════════════════════════════════════════════════════╧═════════════════════════════════════════════════════════════════════╛\n"
     ]
    }
   ],
   "source": [
    "# Append the new data to the existing data\n",
    "combined_data = existing_data.append(user_dict, ignore_index=True)\n",
    "\n",
    "# Save the combined data to the CSV file\n",
    "combined_data.to_csv(csv_file_path, index=False)\n",
    "\n",
    "# Print the updated table to console\n",
    "print(tabulate(combined_data, headers='keys', tablefmt='fancy_grid'))"
   ]
  }
 ],
 "metadata": {
  "kernelspec": {
   "display_name": "Python 3.9.5 64-bit",
   "language": "python",
   "name": "python3"
  },
  "language_info": {
   "codemirror_mode": {
    "name": "ipython",
    "version": 3
   },
   "file_extension": ".py",
   "mimetype": "text/x-python",
   "name": "python",
   "nbconvert_exporter": "python",
   "pygments_lexer": "ipython3",
   "version": "3.9.5"
  },
  "orig_nbformat": 4,
  "vscode": {
   "interpreter": {
    "hash": "e31aef8222fb7c235d2ed8e74ce17e973738f89b37261e7466b7a63a6dfb1214"
   }
  }
 },
 "nbformat": 4,
 "nbformat_minor": 2
}
